{
 "cells": [
  {
   "cell_type": "code",
   "execution_count": 5,
   "metadata": {},
   "outputs": [],
   "source": [
    "from bs4 import BeautifulSoup\n",
    "import requests\n",
    "import re"
   ]
  },
  {
   "cell_type": "code",
   "execution_count": 6,
   "metadata": {},
   "outputs": [],
   "source": [
    "class Emprego:\n",
    "\n",
    "    def clear(self, txt):\n",
    "        return str(txt).replace(\"\\n\", \"\").replace(\"\\t\", \"\").replace(\"\\b\", \"\")\n",
    "\n",
    "    def encode_spaces(self, txt):\n",
    "        return str(txt).replace(\" \",\"+\")\n",
    "\n",
    "    def fetch_job(self):\n",
    "        for job_listing in self.job_page.findAll(class_=\"thumbnail\"):\n",
    "            try:\n",
    "                self.extract_job_information(job_listing[\"href\"])\n",
    "            except Exception as erro:\n",
    "                break\n",
    "\n",
    "    job_listings = []\n",
    "    def extract_job_information(self, url):\n",
    "        link = url\n",
    "        page = BeautifulSoup(requests.get(url).text, \"lxml\")\n",
    "        html = page.find(class_=\"col-lg-8 conteudo-vaga\")\n",
    "\n",
    "        details = []\n",
    "        details.append(self.clear(html.h1.span)[17:-16])\n",
    "\n",
    "        for count, topic in enumerate(html.findAll(\"p\")):\n",
    "            if(count == 2 or count == 3 or count == 4 or count == 5\n",
    "               or count == 6):\n",
    "                    details.append(topic.text)\n",
    "            elif(count >= 7):\n",
    "                try:\n",
    "                    self.check_email_and_phone_validity(details, topic.text)\n",
    "                except Exception as erro:\n",
    "                    print(\"SEM CONTATO\", erro)\n",
    "        jobs = {'title': details[0], 'salary': details[3][8:], 'beneficies': details[4][11:], 'details_job':details[1][19:],\n",
    "                     'requests': details[2][12:], 'contact': details[6], 'link': link }\n",
    "        self.job_listings.append(jobs)\n",
    "\n",
    "    def check_email_and_phone_validity(self, details, txt):\n",
    "        email_phone_regex_patterns = [\"^([1-9]{2}) 9[7-9]{1}[0-9]{3}-[0-9]{4}$\",\n",
    "                  \"[a-zA-Z0-9]+[a-zA-Z0-9_.-]+@{1}[a-zA-Z0-9_.-]*\\\\.+[a-z]{2,4}\"]\n",
    "        for type_index in range(2):\n",
    "            try:\n",
    "                details.append(re.findall(email_phone_regex_patterns[type_index], txt)[0])\n",
    "            except Exception as erro:\n",
    "                pass\n",
    "\n",
    "    def navigate_jobs(self, cargo, contador):\n",
    "        url = \"http://empregacampinas.com.br/page/{}/?s={}\".format(contador, self.encode_spaces(cargo))\n",
    "        self.job_page = BeautifulSoup(requests.get(url).text, \"lxml\")\n",
    "        self.fetch_job()\n",
    "\n",
    "    def __str__(self):\n",
    "        return self.job_page.text\n"
   ]
  },
  {
   "cell_type": "code",
   "execution_count": 12,
   "metadata": {},
   "outputs": [],
   "source": [
    "emprego = Emprego()\n",
    "for page in range(10):\n",
    "    emprego.navigate_jobs(\"python\", page)\n",
    "    if(len(emprego.job_listings) <= 0):\n",
    "        break\n",
    "    "
   ]
  },
  {
   "cell_type": "code",
   "execution_count": 11,
   "metadata": {},
   "outputs": [
    {
     "data": {
      "text/plain": [
       "['ROGRAMADOR DELPHI / NOVA ODESSA – SP / 1 VAGA(S) ',\n",
       " ' a combinar',\n",
       " ' Convênio Médico, Convênio Odontológico, Cesta Básica, Refeição no local, Vale Transporte.',\n",
       " 'Desenvolver, testar e manter aplicações utilizando Delphi; Colaborar com a equipe para identificar e solucionar problemas técnicos; Participar do ciclo completo de desenvolvimento de software, desde a concepção até a implementação; Garantir a qualidade e a eficiência do código; Documentar processos e soluções técnicas.',\n",
       " 'Experiência com desenvolvimento em Delphi; Conhecimento em banco de dados (Postgresql, etc.); Boa capacidade de análise e resolução de problemas; Trabalho em equipe e boa comunicação.',\n",
       " 'oportunidade.novo.trabalho@gmail.com',\n",
       " 'https://empregacampinas.com.br/programador-delphi-nova-odessa-sp-1-vagas/']"
      ]
     },
     "execution_count": 11,
     "metadata": {},
     "output_type": "execute_result"
    }
   ],
   "source": [
    "emprego.job_listings[0]"
   ]
  }
 ],
 "metadata": {
  "kernelspec": {
   "display_name": ".venv",
   "language": "python",
   "name": "python3"
  },
  "language_info": {
   "codemirror_mode": {
    "name": "ipython",
    "version": 3
   },
   "file_extension": ".py",
   "mimetype": "text/x-python",
   "name": "python",
   "nbconvert_exporter": "python",
   "pygments_lexer": "ipython3",
   "version": "3.12.0"
  }
 },
 "nbformat": 4,
 "nbformat_minor": 2
}
